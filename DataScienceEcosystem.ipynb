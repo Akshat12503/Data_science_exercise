{
  "cells": [
    {
      "cell_type": "markdown",
      "id": "2c859eae",
      "metadata": {
        "id": "2c859eae"
      },
      "source": [
        ":# Data Science Tools and"
      ]
    },
    {
      "cell_type": "markdown",
      "id": "7ae5905e",
      "metadata": {
        "id": "7ae5905e"
      },
      "source": [
        "In this notebook, Data Science Tools are summarized."
      ]
    },
    {
      "cell_type": "markdown",
      "id": "27f73c3f",
      "metadata": {
        "id": "27f73c3f"
      },
      "source": [
        "**Objectives:**\n",
        "- List popular languages for Data Science\n",
        "- List commonly used libraries in Data Science\n",
        "- Create tables using markdown\n",
        "- Perform arithmetic operations using Python\n",
        "- Convert minutes to hours using Python"
      ]
    },
    {
      "cell_type": "markdown",
      "id": "74698df5",
      "metadata": {
        "id": "74698df5"
      },
      "source": [
        "Some of the popular languages that Data Scientists use are:\n",
        "1. Python  \n",
        "2. R  \n",
        "3. SQL  \n",
        "4. Julia"
      ]
    },
    {
      "cell_type": "markdown",
      "id": "e41e05b3",
      "metadata": {
        "id": "e41e05b3"
      },
      "source": [
        "Some of the commonly used libraries used by Data Scientists include:\n",
        "1. Pandas  \n",
        "2. NumPy  \n",
        "3. Scikit-learn  \n",
        "4. Matplotlib"
      ]
    },
    {
      "cell_type": "markdown",
      "id": "1b7225d0",
      "metadata": {
        "id": "1b7225d0"
      },
      "source": [
        "| Data Science Tools |\n",
        "|---------------------|\n",
        "| Jupyter Notebook    |\n",
        "| RStudio             |\n",
        "| Apache Zeppelin     |"
      ]
    },
    {
      "cell_type": "markdown",
      "id": "99434c98",
      "metadata": {
        "id": "99434c98"
      },
      "source": [
        "### Below are a few examples of evaluating arithmetic expressions in Python."
      ]
    },
    {
      "cell_type": "code",
      "execution_count": 1,
      "id": "970470c7",
      "metadata": {
        "colab": {
          "base_uri": "https://localhost:8080/"
        },
        "id": "970470c7",
        "outputId": "51e63f16-8ea7-48a4-8111-98bbf4d5a30d"
      },
      "outputs": [
        {
          "output_type": "execute_result",
          "data": {
            "text/plain": [
              "17"
            ]
          },
          "metadata": {},
          "execution_count": 1
        }
      ],
      "source": [
        "# This a simple arithmetic expression to multiply then add integers\n",
        "(3 * 4) + 5"
      ]
    },
    {
      "cell_type": "code",
      "execution_count": 2,
      "id": "d58f58bc",
      "metadata": {
        "colab": {
          "base_uri": "https://localhost:8080/"
        },
        "id": "d58f58bc",
        "outputId": "aca3adb7-a7c4-4b98-b6e6-44f9166abf40"
      },
      "outputs": [
        {
          "output_type": "execute_result",
          "data": {
            "text/plain": [
              "3.3333333333333335"
            ]
          },
          "metadata": {},
          "execution_count": 2
        }
      ],
      "source": [
        "# This will convert 200 minutes to hours by diving by 60\n",
        "200 / 60"
      ]
    },
    {
      "cell_type": "markdown",
      "id": "015e3fc8",
      "metadata": {
        "id": "015e3fc8"
      },
      "source": [
        "## Author\n",
        "Akshat Kutariyar"
      ]
    },
    {
      "cell_type": "markdown",
      "id": "f2386e97",
      "metadata": {
        "id": "f2386e97"
      },
      "source": [
        ":Notebook uploaded to GitHub: [GitHub Link](https://github.com/Akshat12503/Data_science_exercise.git)"
      ]
    }
  ],
  "metadata": {
    "colab": {
      "provenance": []
    },
    "language_info": {
      "name": "python"
    },
    "kernelspec": {
      "name": "python3",
      "display_name": "Python 3"
    }
  },
  "nbformat": 4,
  "nbformat_minor": 5
}
