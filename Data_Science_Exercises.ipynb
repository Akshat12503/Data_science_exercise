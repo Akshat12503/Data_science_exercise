{
 "cells": [
  {
   "cell_type": "markdown",
   "id": "6f54dbd8",
   "metadata": {},
   "source": [
    "# Data Science Notebook"
   ]
  },
  {
   "cell_type": "markdown",
   "id": "d98df8f6",
   "metadata": {},
   "source": [
    "## Introduction\n",
    "This notebook contains a series of exercises related to data science basics, including programming languages, libraries, tools, and some basic arithmetic operations."
   ]
  },
  {
   "cell_type": "markdown",
   "id": "bece5db0",
   "metadata": {},
   "source": [
    "## Data Science Languages\n",
    "- Python\n",
    "- R\n",
    "- SQL\n",
    "- Julia\n",
    "- Scala"
   ]
  },
  {
   "cell_type": "markdown",
   "id": "982d889c",
   "metadata": {},
   "source": [
    "## Data Science Libraries\n",
    "- Pandas\n",
    "- NumPy\n",
    "- Scikit-learn\n",
    "- TensorFlow\n",
    "- Matplotlib"
   ]
  },
  {
   "cell_type": "markdown",
   "id": "1767c0b7",
   "metadata": {},
   "source": [
    "## Data Science Tools\n",
    "\n",
    "| Tool             | Description                      |\n",
    "|------------------|----------------------------------|\n",
    "| Jupyter Notebook | Interactive coding environment   |\n",
    "| RStudio          | IDE for R                        |\n",
    "| Apache Spark     | Big data processing framework    |\n",
    "| Tableau          | Data visualization tool          |\n",
    "| GitHub           | Code sharing and version control |"
   ]
  },
  {
   "cell_type": "markdown",
   "id": "979bd693",
   "metadata": {},
   "source": [
    "## Arithmetic Expression Examples\n",
    "Here we demonstrate basic arithmetic expressions like addition and multiplication."
   ]
  },
  {
   "cell_type": "code",
   "execution_count": null,
   "id": "b828b00b",
   "metadata": {},
   "outputs": [],
   "source": [
    "# Multiply and add numbers\n",
    "(3 * 4) + 5"
   ]
  },
  {
   "cell_type": "code",
   "execution_count": null,
   "id": "3549a2f7",
   "metadata": {},
   "outputs": [],
   "source": [
    "# Convert minutes to hours\n",
    "minutes = 120\n",
    "hours = minutes / 60\n",
    "hours"
   ]
  },
  {
   "cell_type": "markdown",
   "id": "1b08c4a5",
   "metadata": {},
   "source": [
    "## Objectives\n",
    "- Understand common data science languages\n",
    "- Learn about key libraries and tools\n",
    "- Practice basic arithmetic operations in code"
   ]
  },
  {
   "cell_type": "markdown",
   "id": "39746103",
   "metadata": {},
   "source": [
    "## Author\n",
    "**Akshat Kutariyar**"
   ]
  },
  {
   "cell_type": "markdown",
   "id": "37931e37",
   "metadata": {},
   "source": [
    "## Sharing the Notebook\n",
    "The notebook has been uploaded to GitHub at: [GitHub Link Placeholder](https://github.com/yourusername/yourrepo)"
   ]
  },
  {
   "cell_type": "markdown",
   "id": "5f8d5b6b",
   "metadata": {},
   "source": [
    "## Screenshot\n",
    "_A screenshot of the first page of this notebook is attached to the assignment submission._"
   ]
  }
 ],
 "metadata": {},
 "nbformat": 4,
 "nbformat_minor": 5
}
